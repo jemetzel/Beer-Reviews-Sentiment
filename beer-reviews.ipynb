{
  "nbformat": 4,
  "nbformat_minor": 0,
  "metadata": {
    "kernelspec": {
      "display_name": "Python 3",
      "language": "python",
      "name": "python3"
    },
    "language_info": {
      "codemirror_mode": {
        "name": "ipython",
        "version": 3
      },
      "file_extension": ".py",
      "mimetype": "text/x-python",
      "name": "python",
      "nbconvert_exporter": "python",
      "pygments_lexer": "ipython3",
      "version": "3.7.4"
    },
    "colab": {
      "name": "HW3_Problem4.ipynb",
      "provenance": [],
      "collapsed_sections": [],
      "machine_shape": "hm"
    }
  },
  "cells": [
    {
      "cell_type": "code",
      "metadata": {
        "id": "UoGf0UjbZ663",
        "colab_type": "code",
        "colab": {}
      },
      "source": [
        "from __future__ import division \n",
        "import time \n",
        "import json\n",
        "import pandas as pd\n",
        "import numpy as np \n",
        "import string, re\n",
        "from scipy.sparse import csr_matrix\n",
        "import sys \n",
        "from sklearn.linear_model import LogisticRegression\n",
        "from sklearn.model_selection import train_test_split\n",
        "from sklearn.metrics import accuracy_score \n",
        "%matplotlib inline \n",
        "import matplotlib.pyplot as plt\n",
        "from sklearn.svm import LinearSVC\n",
        "from sklearn.linear_model import SGDClassifier \n",
        "import math "
      ],
      "execution_count": 0,
      "outputs": []
    },
    {
      "cell_type": "code",
      "metadata": {
        "id": "eYUwMiulZ66_",
        "colab_type": "code",
        "colab": {}
      },
      "source": [
        "import json\n",
        "\n",
        "f=open('/content/drive/My Drive/mlhw3p4/labeled_small.json','r')\n",
        "\n",
        "data=json.load(f)"
      ],
      "execution_count": 0,
      "outputs": []
    },
    {
      "cell_type": "markdown",
      "metadata": {
        "id": "2dLfxWgBL4jr",
        "colab_type": "text"
      },
      "source": [
        "Part 1"
      ]
    },
    {
      "cell_type": "code",
      "metadata": {
        "id": "h6HiD84BZ67G",
        "colab_type": "code",
        "colab": {}
      },
      "source": [
        "brewers = []\n",
        "beers = []\n",
        "\n",
        "for i in range(100000):\n",
        "    beers.append(data[i]['beer_name'])\n",
        "    brewers.append(data[i]['brewer'])\n",
        "                   \n",
        "beers_u = list(set(beers))\n",
        "brewers_u = list(set(brewers))\n",
        "\n",
        "beer_ratings = {}\n",
        "brew_ratings = {}\n",
        "for beer in beers_u:\n",
        "    beer_ratings[beer] = []\n",
        "for brew in brewers_u: \n",
        "    brew_ratings[brew] = []\n",
        "    \n",
        "for i in range(100000):\n",
        "    beer_ratings[data[i]['beer_name']].append(data[i]['overall'])\n",
        "    brew_ratings[data[i]['brewer']].append(data[i]['overall'])"
      ],
      "execution_count": 0,
      "outputs": []
    },
    {
      "cell_type": "code",
      "metadata": {
        "id": "MMtH9pIWZ67L",
        "colab_type": "code",
        "colab": {
          "base_uri": "https://localhost:8080/",
          "height": 572
        },
        "outputId": "3130ffdc-5981-4377-ab2c-cfeb26d32ec9"
      },
      "source": [
        "print('Beers:\\n')\n",
        "i = 0\n",
        "for beer in beers_u:\n",
        "    if i<10: print(f\"{beer}:\")\n",
        "    mean = np.mean(beer_ratings[beer])\n",
        "    median = np.median(beer_ratings[beer])\n",
        "    sd = np.std(beer_ratings[beer])\n",
        "    if i<10: print(f\"Mean: {mean}, median: {median}, standard deviation: {sd}\\n\")\n",
        "    i = i+1"
      ],
      "execution_count": 267,
      "outputs": [
        {
          "output_type": "stream",
          "text": [
            "Beers:\n",
            "\n",
            "Custom Brewcrafters Duffs Beer Ale:\n",
            "Mean: 11.5, median: 11.5, standard deviation: 1.5\n",
            "\n",
            "Brainerd Lakes One-Eyed Pike:\n",
            "Mean: 11.6, median: 12.0, standard deviation: 1.8547236990991407\n",
            "\n",
            "Why Not On the Ball:\n",
            "Mean: 13.5, median: 13.5, standard deviation: 0.5\n",
            "\n",
            "Big Dogs Chipotle Lime Ale:\n",
            "Mean: 13.0, median: 13.0, standard deviation: 0.0\n",
            "\n",
            "JWs Dry Fen Cider:\n",
            "Mean: 10.0, median: 10.0, standard deviation: 0.0\n",
            "\n",
            "Big Dogs Balls of Holly Christmas Ale:\n",
            "Mean: 17.0, median: 17.0, standard deviation: 0.0\n",
            "\n",
            "Kapsreiter Aloe Bier:\n",
            "Mean: 12.0, median: 12.0, standard deviation: 0.0\n",
            "\n",
            "Ottweiler German Beer:\n",
            "Mean: 3.0, median: 3.0, standard deviation: 0.0\n",
            "\n",
            "Specht Bockbier:\n",
            "Mean: 12.833333333333334, median: 12.5, standard deviation: 2.088327347690278\n",
            "\n",
            "Karlsberg Mixery Bier + Cherry:\n",
            "Mean: 6.8125, median: 7.0, standard deviation: 1.7399263633843818\n",
            "\n"
          ],
          "name": "stdout"
        }
      ]
    },
    {
      "cell_type": "code",
      "metadata": {
        "id": "3I5bgEL9Z67R",
        "colab_type": "code",
        "colab": {
          "base_uri": "https://localhost:8080/",
          "height": 572
        },
        "outputId": "bcf40561-3d31-47c4-d38f-9389dfd663e5"
      },
      "source": [
        "print('Brewers:\\n')\n",
        "i=0\n",
        "for brew in brewers_u:\n",
        "    if i<10: print(f\"{brew}:\")\n",
        "    mean = np.mean(brew_ratings[brew])\n",
        "    median = np.median(brew_ratings[brew])\n",
        "    sd = np.std(brew_ratings[brew])\n",
        "    if i<10: print(f\"Mean: {mean}, median: {median}, standard deviation: {sd}\\n\")\n",
        "    i=i+1"
      ],
      "execution_count": 268,
      "outputs": [
        {
          "output_type": "stream",
          "text": [
            "Brewers:\n",
            "\n",
            "0:\n",
            "Mean: 12.836223506743737, median: 13.0, standard deviation: 2.5432971325766625\n",
            "\n",
            "2055:\n",
            "Mean: 13.21161825726141, median: 14.0, standard deviation: 2.613567750297056\n",
            "\n",
            "10:\n",
            "Mean: 14.141904761904762, median: 14.0, standard deviation: 2.2235084939517855\n",
            "\n",
            "4109:\n",
            "Mean: 14.0, median: 14.0, standard deviation: 0.0\n",
            "\n",
            "4115:\n",
            "Mean: 14.626966292134831, median: 15.0, standard deviation: 2.565841476399087\n",
            "\n",
            "2082:\n",
            "Mean: 13.0, median: 13.0, standard deviation: 2.147937700129211\n",
            "\n",
            "2092:\n",
            "Mean: 11.0, median: 11.0, standard deviation: 0.0\n",
            "\n",
            "4145:\n",
            "Mean: 13.0, median: 13.0, standard deviation: 0.816496580927726\n",
            "\n",
            "4150:\n",
            "Mean: 14.8892455858748, median: 15.0, standard deviation: 2.420272176509786\n",
            "\n",
            "58:\n",
            "Mean: 12.76923076923077, median: 14.0, standard deviation: 2.832608098387995\n",
            "\n"
          ],
          "name": "stdout"
        }
      ]
    },
    {
      "cell_type": "code",
      "metadata": {
        "id": "DdWRhREzZ67V",
        "colab_type": "code",
        "colab": {}
      },
      "source": [
        "# People do seem to have similar tastes, as the standard deviation for most brewers is lower than the overall SD of roughly\n",
        "# 3, and the SD for most of the beers is even lower."
      ],
      "execution_count": 0,
      "outputs": []
    },
    {
      "cell_type": "markdown",
      "metadata": {
        "id": "TFsW6mmnL8LD",
        "colab_type": "text"
      },
      "source": [
        "Part 2a"
      ]
    },
    {
      "cell_type": "code",
      "metadata": {
        "id": "cBuY4Dr9Z67Y",
        "colab_type": "code",
        "colab": {}
      },
      "source": [
        "f = open('/content/drive/My Drive/mlhw3p4/vocab_30.json', 'r')\n",
        "vocab = json.load(f)\n",
        "inv_vocab = {v: k for k, v in vocab.items()}\n",
        "\n",
        "def clean_and_split(s):\n",
        "    # encode to UTF-8, convert to lowercase and translate all hyphens and\n",
        "    # punctuation to whitespace\n",
        "    s = s.lower().replace('-',' ')\n",
        "    # replace \\r\\n\n",
        "    s = re.sub('(\\r\\n)+',' ',s)\n",
        "    # replace whitespace substrings with one whitespace and remove\n",
        "    # leading/trailing whitespaces\n",
        "    s = re.sub(' +',' ',s.strip())\n",
        "    return s.split(' ')  "
      ],
      "execution_count": 0,
      "outputs": []
    },
    {
      "cell_type": "code",
      "metadata": {
        "id": "alFW0jfeZ67b",
        "colab_type": "code",
        "colab": {}
      },
      "source": [
        "indptr = [0]\n",
        "indices = []\n",
        "csr_data = []\n",
        "for i in range(100000):\n",
        "  words = clean_and_split(data[i]['review'])\n",
        "  for word in words:\n",
        "    if word in vocab.keys():\n",
        "      index = vocab[word]\n",
        "      indices.append(index)\n",
        "      csr_data.append(1)\n",
        "  indptr.append(len(indices))"
      ],
      "execution_count": 0,
      "outputs": []
    },
    {
      "cell_type": "code",
      "metadata": {
        "id": "KlheMZ6WEF4d",
        "colab_type": "code",
        "colab": {}
      },
      "source": [
        "csr_features = csr_matrix((csr_data, indices, indptr), dtype=int)"
      ],
      "execution_count": 0,
      "outputs": []
    },
    {
      "cell_type": "code",
      "metadata": {
        "id": "l8zoeAv8Z67j",
        "colab_type": "code",
        "colab": {}
      },
      "source": [
        "csr_training = csr_features[0:70000]\n",
        "csr_validation = csr_features[70000:85000]\n",
        "csr_testing = csr_features[85000:100000]"
      ],
      "execution_count": 0,
      "outputs": []
    },
    {
      "cell_type": "code",
      "metadata": {
        "id": "31OemiR2IOms",
        "colab_type": "code",
        "colab": {}
      },
      "source": [
        "sentiments = np.ones((100000))\n",
        "for i in range(100000):\n",
        "  if data[i]['overall'] < 14:\n",
        "    sentiments[i] = -1\n",
        "\n",
        "y_training = sentiments[0:70000]\n",
        "y_validation = sentiments[70000:85000]\n",
        "y_testing = sentiments[85000:100000] "
      ],
      "execution_count": 0,
      "outputs": []
    },
    {
      "cell_type": "markdown",
      "metadata": {
        "id": "o4VJiFctMH3V",
        "colab_type": "text"
      },
      "source": [
        "Part 2b"
      ]
    },
    {
      "cell_type": "code",
      "metadata": {
        "id": "lhLEOL_OCmIE",
        "colab_type": "code",
        "colab": {}
      },
      "source": [
        "log_loss = LogisticRegression(penalty='l2', C=0.1, max_iter=1000).fit(csr_training,y_training)"
      ],
      "execution_count": 0,
      "outputs": []
    },
    {
      "cell_type": "code",
      "metadata": {
        "id": "k_ueQgnqJORi",
        "colab_type": "code",
        "colab": {
          "base_uri": "https://localhost:8080/",
          "height": 35
        },
        "outputId": "7eae8d22-a62f-4130-e080-a998e9f08919"
      },
      "source": [
        "score_log = log_loss.score(csr_validation,y_validation)\n",
        "print(score_log)"
      ],
      "execution_count": 63,
      "outputs": [
        {
          "output_type": "stream",
          "text": [
            "0.7008\n"
          ],
          "name": "stdout"
        }
      ]
    },
    {
      "cell_type": "code",
      "metadata": {
        "id": "cYCP9hLUKdcn",
        "colab_type": "code",
        "colab": {}
      },
      "source": [
        "# The model only takes a few seconds to train. The best value C seems to be 0.1."
      ],
      "execution_count": 0,
      "outputs": []
    },
    {
      "cell_type": "code",
      "metadata": {
        "id": "SEvFFpQALyNZ",
        "colab_type": "code",
        "colab": {}
      },
      "source": [
        "hinge_loss = LinearSVC(penalty='l2',loss='hinge',C=0.1,max_iter=1000).fit(csr_training,y_training)"
      ],
      "execution_count": 0,
      "outputs": []
    },
    {
      "cell_type": "code",
      "metadata": {
        "id": "J_d8BLC5MF9f",
        "colab_type": "code",
        "colab": {
          "base_uri": "https://localhost:8080/",
          "height": 35
        },
        "outputId": "f8ad0505-52e4-40fe-8123-b9b4c837e3ec"
      },
      "source": [
        "score_hinge = hinge_loss.score(csr_validation,y_validation)\n",
        "print(score_hinge)"
      ],
      "execution_count": 79,
      "outputs": [
        {
          "output_type": "stream",
          "text": [
            "0.6944\n"
          ],
          "name": "stdout"
        }
      ]
    },
    {
      "cell_type": "code",
      "metadata": {
        "id": "BMonkdwMMVWb",
        "colab_type": "code",
        "colab": {}
      },
      "source": [
        "# The two losses do not produce significantly different results. "
      ],
      "execution_count": 0,
      "outputs": []
    },
    {
      "cell_type": "markdown",
      "metadata": {
        "id": "0-9oiELLMKoX",
        "colab_type": "text"
      },
      "source": [
        "Part 2c"
      ]
    },
    {
      "cell_type": "code",
      "metadata": {
        "id": "VdkmEkD9Pccc",
        "colab_type": "code",
        "colab": {}
      },
      "source": [
        "from random import shuffle"
      ],
      "execution_count": 0,
      "outputs": []
    },
    {
      "cell_type": "code",
      "metadata": {
        "id": "o1JYtGcVd0ln",
        "colab_type": "code",
        "colab": {}
      },
      "source": [
        "def acc_validation(weights):\n",
        "  n_correct = 0\n",
        "  for i in range(15000):\n",
        "    xi = csr_validation[i]\n",
        "    if xi.dot(weights).toarray() > 0 and y_validation[i] == 1:\n",
        "      n_correct = n_correct + 1\n",
        "    if xi.dot(weights).toarray() < 0 and y_validation[i] == -1:\n",
        "      n_correct = n_correct + 1  \n",
        "  return n_correct/15000\n",
        "\n",
        "def acc_training(weights):\n",
        "  n_correct = 0\n",
        "  for i in range(70000):\n",
        "    xi = csr_training[i]\n",
        "    if xi.dot(weights).toarray() > 0 and y_training[i] == 1:\n",
        "      n_correct = n_correct + 1\n",
        "    if xi.dot(weights).toarray() < 0 and y_training[i] == -1:\n",
        "      n_correct = n_correct + 1\n",
        "  return n_correct/70000\n",
        "\n",
        "def acc_testing(weights): \n",
        "  n_correct = 0\n",
        "  for i in range(15000):\n",
        "    xi = csr_testing[i]\n",
        "    if xi.dot(weights).toarray() > 0 and y_testing[i] == 1:\n",
        "      n_correct = n_correct + 1\n",
        "    if xi.dot(weights).toarray() < 0 and y_testing[i] == -1:\n",
        "      n_correct = n_correct + 1\n",
        "  return n_correct/15000"
      ],
      "execution_count": 0,
      "outputs": []
    },
    {
      "cell_type": "code",
      "metadata": {
        "id": "PnZamMEyzrDI",
        "colab_type": "code",
        "colab": {}
      },
      "source": [
        "theta = csr_matrix((len(vocab)-1,1))\n",
        "delta = 0.0005\n",
        "C = 100"
      ],
      "execution_count": 0,
      "outputs": []
    },
    {
      "cell_type": "code",
      "metadata": {
        "id": "AMVfFeUH0YF3",
        "colab_type": "code",
        "colab": {
          "base_uri": "https://localhost:8080/",
          "height": 124
        },
        "outputId": "3f9f0bef-f3a1-4225-c083-36f18cc001c7"
      },
      "source": [
        "for epoch in range(5):\n",
        "\n",
        "  ll = 0\n",
        "\n",
        "  for batch in range(700):\n",
        "\n",
        "    indices = np.arange(csr_training.shape[0])\n",
        "    shuffle(indices)\n",
        "    shuffled_csr_training = csr_training[list(indices)]\n",
        "    shuffled_y_training = y_training[list(indices)]\n",
        "\n",
        "    G=csr_matrix((1,len(vocab)-1))\n",
        "    # if batch%10 == 0: print(batch)\n",
        "    x = shuffled_csr_training[100*batch:100*(batch+1)]\n",
        "    pred = x.dot(theta)\n",
        "\n",
        "    for i in range(100):\n",
        "\n",
        "      yi = shuffled_y_training[100*batch + i]\n",
        "      eta = pred[i].toarray()\n",
        "      xi = x[i]\n",
        "\n",
        "      exponent = eta*yi*2\n",
        "      if exponent > 700: a = 0\n",
        "      else: a = 1/(1+math.exp(exponent))\n",
        "      grad = -xi.dot(yi).dot(a) + theta.dot(2/C).T\n",
        "      lli = np.log(1+math.exp(-exponent))\n",
        "\n",
        "      G = G + grad\n",
        "      ll = ll + lli\n",
        "\n",
        "    theta = np.subtract(theta,G.dot(delta).T)\n",
        "  \n",
        "  acc_t = acc_training(theta)\n",
        "  acc_v = acc_validation(theta)\n",
        "\n",
        "  print(f\"epoch: {epoch}, training set accuracy: {acc_t},\",\n",
        "  f\"validation set accuracy: {acc_v}, negative log likelihood: {ll}\")"
      ],
      "execution_count": 197,
      "outputs": [
        {
          "output_type": "stream",
          "text": [
            "epoch: 0, training set accuracy: 0.7065142857142858, validation set accuracy: 0.7427333333333334, negative log likelihood: 43064.812878995035\n",
            "epoch: 1, training set accuracy: 0.7127, validation set accuracy: 0.7484666666666666, negative log likelihood: 40984.54653561792\n",
            "epoch: 2, training set accuracy: 0.7151714285714286, validation set accuracy: 0.7504666666666666, negative log likelihood: 40662.13702200697\n",
            "epoch: 3, training set accuracy: 0.7161571428571428, validation set accuracy: 0.7508, negative log likelihood: 40564.846253356496\n",
            "epoch: 4, training set accuracy: 0.7164857142857143, validation set accuracy: 0.7508, negative log likelihood: 40530.05929546808\n"
          ],
          "name": "stdout"
        }
      ]
    },
    {
      "cell_type": "code",
      "metadata": {
        "id": "pPyzcS1G2KnN",
        "colab_type": "code",
        "colab": {}
      },
      "source": [
        "train_err_rates = [1-0.7065, 1-0.7127, 1-0.7152, 1-0.7162, 1-0.7165]\n",
        "validation_err_rates = [1-0.7427, 1-0.7485, 1-0.7505, 1-0.7508, 1-0.7508]\n",
        "lls = [43065, 40985, 40662, 40565, 40530]\n",
        "x = [0,1,2,3,4]"
      ],
      "execution_count": 0,
      "outputs": []
    },
    {
      "cell_type": "code",
      "metadata": {
        "id": "Q_jxAkInBTAb",
        "colab_type": "code",
        "colab": {
          "base_uri": "https://localhost:8080/",
          "height": 283
        },
        "outputId": "efefc095-9e8e-4ba3-eb25-547db7003c98"
      },
      "source": [
        "plt.plot(x, train_err_rates, validation_err_rates)\n",
        "print(\"Blue: Training Set Error Rates, Orange: Validation Set Error Rates\")"
      ],
      "execution_count": 208,
      "outputs": [
        {
          "output_type": "stream",
          "text": [
            "Blue: Training Set Error Rates, Orange: Validation Set Error Rates\n"
          ],
          "name": "stdout"
        },
        {
          "output_type": "display_data",
          "data": {
            "image/png": "[encoded data removed]",
            "text/plain": [
              "<Figure size 432x288 with 1 Axes>"
            ]
          },
          "metadata": {
            "tags": [],
            "needs_background": "light"
          }
        }
      ]
    },
    {
      "cell_type": "code",
      "metadata": {
        "id": "aPJWkQcUIsZr",
        "colab_type": "code",
        "colab": {
          "base_uri": "https://localhost:8080/",
          "height": 283
        },
        "outputId": "f8a6fce5-4288-46d7-da48-64bce5266485"
      },
      "source": [
        "plt.plot(x, lls)\n",
        "print(\"Negative Log Likelihoods by Iteration\")"
      ],
      "execution_count": 210,
      "outputs": [
        {
          "output_type": "stream",
          "text": [
            "Negative Log Likelihoods by Iteration\n"
          ],
          "name": "stdout"
        },
        {
          "output_type": "display_data",
          "data": {
            "image/png": "[encoded data removed]",
            "text/plain": [
              "<Figure size 432x288 with 1 Axes>"
            ]
          },
          "metadata": {
            "tags": [],
            "needs_background": "light"
          }
        }
      ]
    },
    {
      "cell_type": "code",
      "metadata": {
        "id": "rSUbpSKs8IS_",
        "colab_type": "code",
        "colab": {
          "base_uri": "https://localhost:8080/",
          "height": 35
        },
        "outputId": "d43c98ad-d7f1-472b-a17d-f19635c321d1"
      },
      "source": [
        "print(f\"Test set error: {acc_testing(theta)}\")"
      ],
      "execution_count": 269,
      "outputs": [
        {
          "output_type": "stream",
          "text": [
            "Test set error: 0.7337333333333333\n"
          ],
          "name": "stdout"
        }
      ]
    },
    {
      "cell_type": "code",
      "metadata": {
        "id": "fcRUnorHMgJM",
        "colab_type": "code",
        "colab": {}
      },
      "source": [
        "# The time to train is much higher for my model, but the error rate is slightly lower."
      ],
      "execution_count": 0,
      "outputs": []
    },
    {
      "cell_type": "markdown",
      "metadata": {
        "id": "AcXxtSVyMqhO",
        "colab_type": "text"
      },
      "source": [
        "Part 3"
      ]
    },
    {
      "cell_type": "code",
      "metadata": {
        "id": "escp01EQ9PeQ",
        "colab_type": "code",
        "colab": {}
      },
      "source": [
        "new_feat = np.zeros((100000,5))\n",
        "for i in range(100000):\n",
        "  new_feat[i][0] = data[i]['appearance']\n",
        "  new_feat[i][1] = data[i]['aroma']\n",
        "  new_feat[i][2] = data[i]['palate']\n",
        "  new_feat[i][3] = data[i]['style']\n",
        "  new_feat[i][4] = data[i]['taste']\n",
        "\n",
        "new_training = new_feat[:70000,:]\n",
        "new_validation = new_feat[70000:85000,:]\n",
        "new_testing = new_feat[85000:100000,:]  "
      ],
      "execution_count": 0,
      "outputs": []
    },
    {
      "cell_type": "code",
      "metadata": {
        "id": "5HAF1jMvCad9",
        "colab_type": "code",
        "colab": {}
      },
      "source": [
        "def new_acc_validation(weights):\n",
        "  n_correct = 0\n",
        "  for i in range(15000):\n",
        "    xi = new_validation[i,:]\n",
        "    if xi.dot(weights) > 0 and y_validation[i] == 1:\n",
        "      n_correct = n_correct + 1\n",
        "    if xi.dot(weights) < 0 and y_validation[i] == -1:\n",
        "      n_correct = n_correct + 1  \n",
        "  return n_correct\n",
        "\n",
        "def new_acc_training(weights):\n",
        "  n_correct = 0\n",
        "  for i in range(70000):\n",
        "    xi = new_training[i,:]\n",
        "    if xi.dot(weights) > 0 and y_training[i] == 1:\n",
        "      n_correct = n_correct + 1\n",
        "    if xi.dot(weights) < 0 and y_training[i] == -1:\n",
        "      n_correct = n_correct + 1\n",
        "  return n_correct/70000\n",
        "\n",
        "def new_acc_testing(weights): \n",
        "  n_correct = 0\n",
        "  for i in range(15000):\n",
        "    xi = new_testing[i,:]\n",
        "    if xi.dot(weights) > 0 and y_testing[i] == 1:\n",
        "      n_correct = n_correct + 1\n",
        "    if xi.dot(weights) < 0 and y_testing[i] == -1:\n",
        "      n_correct = n_correct + 1\n",
        "  return n_correct/15000"
      ],
      "execution_count": 0,
      "outputs": []
    },
    {
      "cell_type": "code",
      "metadata": {
        "id": "Yte7Hm_wD1e2",
        "colab_type": "code",
        "colab": {}
      },
      "source": [
        "theta2 = np.zeros((5,1))\n",
        "delta2 = 0.001\n",
        "C2 = 1"
      ],
      "execution_count": 0,
      "outputs": []
    },
    {
      "cell_type": "code",
      "metadata": {
        "id": "JO4uUKiw9taO",
        "colab_type": "code",
        "colab": {
          "base_uri": "https://localhost:8080/",
          "height": 124
        },
        "outputId": "7de00d4e-9415-4fd2-c671-c47eeb2486d2"
      },
      "source": [
        "for epoch in range(5):\n",
        "\n",
        "  ll = 0\n",
        "\n",
        "  for batch in range(700):\n",
        "\n",
        "    indices = np.arange(new_training.shape[0])\n",
        "    shuffle(indices)\n",
        "    shuffled_new_training = new_training[list(indices)]\n",
        "    shuffled_ynew_training = y_training[list(indices)]\n",
        "\n",
        "    G=csr_matrix((1,5))\n",
        "    # if batch%10 == 0: print(batch)\n",
        "    x = shuffled_new_training[100*batch:100*(batch+1),:]\n",
        "    pred = x.dot(theta2)\n",
        "\n",
        "    for i in range(100):\n",
        "\n",
        "      yi = shuffled_ynew_training[100*batch + i]\n",
        "      eta = pred[i]\n",
        "      xi = x[i]\n",
        "\n",
        "      exponent = eta*yi*2\n",
        "      if exponent > 700: a = 0\n",
        "      else: a = 1/(1+math.exp(exponent))\n",
        "      grad = -xi.dot(yi).dot(a) + theta2.dot(2/C2).T\n",
        "      if -exponent > 700: lli = -exponent\n",
        "      else: lli = np.log(1+math.exp(-exponent))\n",
        "\n",
        "      G = G + grad\n",
        "      ll = ll + lli\n",
        "\n",
        "    theta2 = np.subtract(theta2,G.dot(delta2).T)\n",
        "  \n",
        "  acc_t = new_acc_training(theta2)\n",
        "  acc_v = new_acc_validation(theta2)\n",
        "\n",
        "  print(f\"epoch: {epoch}, training set accuracy: {acc_t},\",\n",
        "  f\"validation set accuracy: {acc_v}, negative log likelihood: {ll}\")"
      ],
      "execution_count": 264,
      "outputs": [
        {
          "output_type": "stream",
          "text": [
            "epoch: 0, training set accuracy: 0.5616714285714286, validation set accuracy: 0.7819333333333334, negative log likelihood: 2543778.730514741\n",
            "epoch: 1, training set accuracy: 0.5616714285714286, validation set accuracy: 0.7819333333333334, negative log likelihood: 2510116.34682949\n",
            "epoch: 2, training set accuracy: 0.43832857142857146, validation set accuracy: 0.21806666666666666, negative log likelihood: 2503363.8774240366\n",
            "epoch: 3, training set accuracy: 0.43832857142857146, validation set accuracy: 0.21806666666666666, negative log likelihood: 2514189.312282659\n",
            "epoch: 4, training set accuracy: 0.5616714285714286, validation set accuracy: 0.7819333333333334, negative log likelihood: 2531750.0349724903\n"
          ],
          "name": "stdout"
        }
      ]
    },
    {
      "cell_type": "code",
      "metadata": {
        "id": "Nu0hEIiV_E3K",
        "colab_type": "code",
        "colab": {
          "base_uri": "https://localhost:8080/",
          "height": 35
        },
        "outputId": "8eb3443d-eb67-49ca-96dc-54d3ab35d111"
      },
      "source": [
        "print(f\"Error rate on testing set: {1-new_acc_testing(theta2)}\")"
      ],
      "execution_count": 265,
      "outputs": [
        {
          "output_type": "stream",
          "text": [
            "Error rate on testing set: 0.3214666666666667\n"
          ],
          "name": "stdout"
        }
      ]
    },
    {
      "cell_type": "code",
      "metadata": {
        "id": "vAUhjqVzGOhh",
        "colab_type": "code",
        "colab": {}
      },
      "source": [
        "# The first model predicts better. I think this is because, with over 40000 parameters, the first model\n",
        "# can adjust predictions much more finely, whereas the new model seems to either classify\n",
        "# all reviews as negative and all as positive. "
      ],
      "execution_count": 0,
      "outputs": []
    }
  ]
}
